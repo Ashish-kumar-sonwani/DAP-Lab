{
 "cells": [
  {
   "cell_type": "code",
   "execution_count": 2,
   "id": "0e025676-7855-4564-bf73-9a1fa299253a",
   "metadata": {
    "scrolled": true
   },
   "outputs": [
    {
     "name": "stdout",
     "output_type": "stream",
     "text": [
      "Hello Ashish\n"
     ]
    }
   ],
   "source": [
    "# Identifiers and Keywords (H1)\n",
    "# Identifiers: variable, function, class names\n",
    "# Keywords: reserved words like `def`, `class`, `if`, `else`, etc.\n",
    "\n",
    "\n",
    "name = \"Ashish\"  # 'name' is an identifier\n",
    "age = 21         # 'age' is also an identifier\n",
    "\n",
    "\n",
    "def greet():     # 'def' is a keyword, 'greet' is an identifier\n",
    "    print(\"Hello\", name)\n",
    "\n",
    "\n",
    "greet()\n"
   ]
  },
  {
   "cell_type": "code",
   "execution_count": 6,
   "id": "26f3a982-e632-40f1-840e-8efdc7e4b2a4",
   "metadata": {
    "scrolled": true
   },
   "outputs": [
    {
     "name": "stdout",
     "output_type": "stream",
     "text": [
      "x is greater than 5\n",
      "This line is also part of the if block\n",
      "This line is outside the if block\n"
     ]
    }
   ],
   "source": [
    "#Indentation\n",
    "# Python uses indentation (spaces or tabs) to define code blocks\n",
    "\n",
    "\n",
    "x = 10\n",
    "\n",
    "\n",
    "if x > 5:\n",
    "    print(\"x is greater than 5\")   # indented block inside if\n",
    "    print(\"This line is also part of the if block\")\n",
    "print(\"This line is outside the if block\")  # no indentation\n"
   ]
  },
  {
   "cell_type": "code",
   "execution_count": 8,
   "id": "145fdd5a-9733-4af5-97e9-8398d40f18ed",
   "metadata": {},
   "outputs": [
    {
     "name": "stdout",
     "output_type": "stream",
     "text": [
      "Sum is: 8\n"
     ]
    }
   ],
   "source": [
    "#Comments\n",
    "\n",
    "\"\"\"\n",
    "This is a \n",
    "multi-line comment or docstring.\n",
    "Used to describe what your code does.\n",
    "\"\"\"\n",
    "\n",
    "# Below is a sample program\n",
    "a = 5  # assigning value 5 to variable a\n",
    "b = 3\n",
    "sum = a + b  # adding a and b\n",
    "print(\"Sum is:\", sum)\n"
   ]
  },
  {
   "cell_type": "code",
   "execution_count": 3,
   "id": "8db18766-e997-4a06-b220-9260619fc4f9",
   "metadata": {},
   "outputs": [
    {
     "name": "stdout",
     "output_type": "stream",
     "text": [
      "Addition: 13\n",
      "Subtraction: 7\n",
      "Multiplication: 30\n",
      "Division: 3.3333333333333335\n",
      "Modulus: 1\n",
      "Power: 1000\n",
      "Is a equal to b? False\n",
      "Is a not equal to b? True\n",
      "Is a greater than b? True\n"
     ]
    }
   ],
   "source": [
    "#Operators\n",
    "a = 10\n",
    "b = 3\n",
    "\n",
    "# Arithmetic Operators\n",
    "print(\"Addition:\", a + b)\n",
    "print(\"Subtraction:\", a - b)\n",
    "print(\"Multiplication:\", a * b)\n",
    "print(\"Division:\", a / b)\n",
    "print(\"Modulus:\", a % b)\n",
    "print(\"Power:\", a ** b)\n",
    "\n",
    "# Comparison Operators\n",
    "print(\"Is a equal to b?\", a == b)\n",
    "print(\"Is a not equal to b?\", a != b)\n",
    "print(\"Is a greater than b?\", a > b)"
   ]
  },
  {
   "cell_type": "code",
   "execution_count": 11,
   "id": "7f41b26e-8947-47a4-ae45-5cf71e47ff20",
   "metadata": {},
   "outputs": [
    {
     "name": "stdout",
     "output_type": "stream",
     "text": [
      "True\n",
      "False\n",
      "True\n",
      "True\n",
      "False\n"
     ]
    }
   ],
   "source": [
    "#Membership Operator\n",
    "my_list = [1, 2, 3, 4, 5]\n",
    "\n",
    "print(3 in my_list)    # True\n",
    "print(7 in my_list)    # False\n",
    "print(10 not in my_list)  # True\n",
    "\n",
    "my_string = \"hello\"\n",
    "print('h' in my_string)  # True\n",
    "print('z' in my_string)  # False\n"
   ]
  },
  {
   "cell_type": "code",
   "execution_count": 13,
   "id": "a62455c4-8732-4931-b025-272f31b93d93",
   "metadata": {},
   "outputs": [],
   "source": [
    "#2. Write programs to understand the use of Python String, Tuple, List, Set, Dictionary, File input/output."
   ]
  },
  {
   "cell_type": "code",
   "execution_count": 2,
   "id": "b20d211f-a269-4f7f-b22a-68d3ba79418a",
   "metadata": {
    "scrolled": true
   },
   "outputs": [
    {
     "name": "stdout",
     "output_type": "stream",
     "text": [
      "HELLO, PYTHON!\n",
      "hello, python!\n",
      "Hello\n",
      "True\n",
      "Hello, World!\n"
     ]
    }
   ],
   "source": [
    "#String\n",
    "# String operations\n",
    "text = \"Hello, Python!\"\n",
    "\n",
    "print(text.upper())         # Convert to uppercase\n",
    "print(text.lower())         # Convert to lowercase\n",
    "print(text[0:5])            # Slicing\n",
    "print(\"Python\" in text)     # Membership check\n",
    "print(text.replace(\"Python\", \"World\"))"
   ]
  },
  {
   "cell_type": "code",
   "execution_count": 3,
   "id": "fca3b488-7145-4f95-bf9a-785a338092d4",
   "metadata": {},
   "outputs": [
    {
     "name": "stdout",
     "output_type": "stream",
     "text": [
      "20\n",
      "4\n",
      "True\n"
     ]
    }
   ],
   "source": [
    "#Tuple\n",
    "# Tuples are immutable collections\n",
    "my_tuple = (10, 20, 30, 40)\n",
    "\n",
    "print(my_tuple[1])          # Accessing element\n",
    "print(len(my_tuple))        # Length of tuple\n",
    "print(20 in my_tuple)       # Membership check\n",
    "\n",
    "# my_tuple[0] = 100  ❌ Error: Tuples are immutable"
   ]
  },
  {
   "cell_type": "code",
   "execution_count": 6,
   "id": "c949218b-ac8d-4459-9d7b-b2bc87f42c36",
   "metadata": {},
   "outputs": [
    {
     "name": "stdout",
     "output_type": "stream",
     "text": [
      "[100, 3, 4]\n",
      "3\n"
     ]
    }
   ],
   "source": [
    "#List\n",
    "# Lists are mutable\n",
    "my_list = [1, 2, 3]\n",
    "\n",
    "my_list.append(4)           # Add element\n",
    "my_list.remove(2)           # Remove element\n",
    "my_list[0] = 100            # Modify element\n",
    "\n",
    "print(my_list)\n",
    "print(len(my_list))"
   ]
  },
  {
   "cell_type": "code",
   "execution_count": 5,
   "id": "f4f26f5d-5a39-4fba-99e8-5337b637ab44",
   "metadata": {},
   "outputs": [
    {
     "name": "stdout",
     "output_type": "stream",
     "text": [
      "{1, 3, 4, 5}\n",
      "True\n"
     ]
    }
   ],
   "source": [
    "#Set\n",
    "# Sets are unordered and store unique values\n",
    "my_set = {1, 2, 3, 3, 4}\n",
    "\n",
    "my_set.add(5)               # Add item\n",
    "my_set.discard(2)           # Remove item if present\n",
    "\n",
    "print(my_set)\n",
    "print(3 in my_set)          # Membership"
   ]
  },
  {
   "cell_type": "code",
   "execution_count": 4,
   "id": "ff2cf777-4a37-4c20-b19a-359ee0cb1825",
   "metadata": {},
   "outputs": [
    {
     "name": "stdout",
     "output_type": "stream",
     "text": [
      "Ashish\n",
      "name: Ashish\n",
      "age: 22\n",
      "branch: CSE\n",
      "city: Raipur\n"
     ]
    }
   ],
   "source": [
    "#Dictionary\n",
    "# Dictionary stores key-value pairs\n",
    "student = {\n",
    "    \"name\": \"Ashish\",\n",
    "    \"age\": 21,\n",
    "    \"branch\": \"CSE\"\n",
    "}\n",
    "\n",
    "print(student[\"name\"])      # Access by key\n",
    "student[\"age\"] = 22         # Modify value\n",
    "student[\"city\"] = \"Raipur\"  # Add new key-value\n",
    "\n",
    "for key, value in student.items():\n",
    "    print(f\"{key}: {value}\")"
   ]
  },
  {
   "cell_type": "code",
   "execution_count": 18,
   "id": "2b336de9-739c-49f4-8a6b-df0e58aea5de",
   "metadata": {},
   "outputs": [
    {
     "name": "stdout",
     "output_type": "stream",
     "text": [
      "Requirement already satisfied: numpy in c:\\users\\ashish\\anaconda3\\lib\\site-packages (2.1.3)\n",
      "Note: you may need to restart the kernel to use updated packages.\n"
     ]
    }
   ],
   "source": [
    "pip install numpy"
   ]
  },
  {
   "cell_type": "code",
   "execution_count": 19,
   "id": "cc203bb1-de15-4b10-a565-4ceb8cbaac26",
   "metadata": {},
   "outputs": [
    {
     "name": "stdout",
     "output_type": "stream",
     "text": [
      "1D Array: [1 2 3 4 5]\n",
      "2D Array:\n",
      " [[1 2]\n",
      " [3 4]]\n"
     ]
    }
   ],
   "source": [
    "\"\"\"Write programs to understand the use of Numpy’s Ndarray, Basic Operations, Indexing, Slicing, and Iterating,\n",
    "Conditions and Boolean Arrays.\"\"\"\n",
    "\n",
    "#Creating an ndarray\n",
    "import numpy as np\n",
    "\n",
    "arr = np.array([1, 2, 3, 4, 5])\n",
    "print(\"1D Array:\", arr)\n",
    "\n",
    "matrix = np.array([[1, 2], [3, 4]])\n",
    "print(\"2D Array:\\n\", matrix)"
   ]
  },
  {
   "cell_type": "code",
   "execution_count": 20,
   "id": "7fb2ceef-cdf1-4a45-b93c-d4a60b146c19",
   "metadata": {},
   "outputs": [
    {
     "name": "stdout",
     "output_type": "stream",
     "text": [
      "Addition: [5 7 9]\n",
      "Subtraction: [-3 -3 -3]\n",
      "Multiplication: [ 4 10 18]\n",
      "Division: [4.  2.5 2. ]\n",
      "Square: [1 4 9]\n",
      "Sum of all elements: 6\n"
     ]
    }
   ],
   "source": [
    "#Basic Operations\n",
    "a = np.array([1, 2, 3])\n",
    "b = np.array([4, 5, 6])\n",
    "\n",
    "print(\"Addition:\", a + b)\n",
    "print(\"Subtraction:\", a - b)\n",
    "print(\"Multiplication:\", a * b)\n",
    "print(\"Division:\", b / a)\n",
    "print(\"Square:\", a ** 2)\n",
    "print(\"Sum of all elements:\", np.sum(a))"
   ]
  },
  {
   "cell_type": "code",
   "execution_count": 21,
   "id": "77eac136-bc10-4b17-91c6-ba9c630dc42e",
   "metadata": {},
   "outputs": [
    {
     "name": "stdout",
     "output_type": "stream",
     "text": [
      "Element at index 2: 30\n",
      "Sliced Array: [20 30 40]\n",
      "Iterating over array:\n",
      "10\n",
      "20\n",
      "30\n",
      "40\n",
      "50\n"
     ]
    }
   ],
   "source": [
    "#Indexing, Slicing, and Iterating\n",
    "arr = np.array([10, 20, 30, 40, 50])\n",
    "\n",
    "print(\"Element at index 2:\", arr[2])\n",
    "print(\"Sliced Array:\", arr[1:4])\n",
    "\n",
    "print(\"Iterating over array:\")\n",
    "for x in arr:\n",
    "    print(x)\n"
   ]
  },
  {
   "cell_type": "code",
   "execution_count": 22,
   "id": "2ec24e6d-3953-4b53-8470-d74778bd9627",
   "metadata": {},
   "outputs": [
    {
     "name": "stdout",
     "output_type": "stream",
     "text": [
      "Element at [1][2]: 6\n",
      "Row 2: [4 5 6]\n",
      "Column 1: [1 4 7]\n",
      "Sub-matrix:\n",
      " [[2 3]\n",
      " [5 6]]\n"
     ]
    }
   ],
   "source": [
    "#Multidimensional Indexing and Slicing\n",
    "matrix = np.array([[1, 2, 3],\n",
    "                   [4, 5, 6],\n",
    "                   [7, 8, 9]])\n",
    "\n",
    "print(\"Element at [1][2]:\", matrix[1][2])\n",
    "print(\"Row 2:\", matrix[1])\n",
    "print(\"Column 1:\", matrix[:, 0])\n",
    "print(\"Sub-matrix:\\n\", matrix[0:2, 1:3])"
   ]
  },
  {
   "cell_type": "code",
   "execution_count": 23,
   "id": "67e84d1a-53f9-460c-b588-58296b8b83a7",
   "metadata": {},
   "outputs": [
    {
     "name": "stdout",
     "output_type": "stream",
     "text": [
      "Condition arr > 15: [False False False  True  True]\n",
      "Filtered values (arr > 15): [20 25]\n",
      "Values between 10 and 25: [15 20]\n"
     ]
    }
   ],
   "source": [
    "#Conditions and Boolean Arrays\n",
    "arr = np.array([5, 10, 15, 20, 25])\n",
    "\n",
    "bool_arr = arr > 15\n",
    "print(\"Condition arr > 15:\", bool_arr)\n",
    "\n",
    "filtered = arr[arr > 15]\n",
    "print(\"Filtered values (arr > 15):\", filtered)\n",
    "\n",
    "# Multiple conditions\n",
    "print(\"Values between 10 and 25:\", arr[(arr > 10) & (arr < 25)])"
   ]
  },
  {
   "cell_type": "code",
   "execution_count": 7,
   "id": "83a78913-366b-4aef-93b4-49a1d2d8cfbe",
   "metadata": {},
   "outputs": [
    {
     "name": "stdout",
     "output_type": "stream",
     "text": [
      "Original shape: (2, 3)\n",
      "Reshaped (3x2):\n",
      " [[1 2]\n",
      " [3 4]\n",
      " [5 6]]\n",
      "Flattened array: [1 2 3 4 5 6]\n",
      "Transposed:\n",
      " [[1 4]\n",
      " [2 5]\n",
      " [3 6]]\n"
     ]
    }
   ],
   "source": [
    "#Write programs to understand the use of Numpy’s Shape Manipulation, Array Manipulation, Vectorization.\n",
    "\n",
    "#1. Shape Manipulation\n",
    "import numpy as np\n",
    "\n",
    "# Original array\n",
    "arr = np.array([[1, 2, 3], [4, 5, 6]])\n",
    "print(\"Original shape:\", arr.shape)\n",
    "\n",
    "# Reshape\n",
    "reshaped = arr.reshape(3, 2)\n",
    "print(\"Reshaped (3x2):\\n\", reshaped)\n",
    "\n",
    "# Flatten (1D)\n",
    "flat = arr.flatten()\n",
    "print(\"Flattened array:\", flat)\n",
    "\n",
    "# Transpose\n",
    "transposed = arr.T\n",
    "print(\"Transposed:\\n\", transposed)\n"
   ]
  },
  {
   "cell_type": "code",
   "execution_count": 8,
   "id": "c17090f2-589f-42ba-a157-4dbe4bfabb51",
   "metadata": {},
   "outputs": [
    {
     "name": "stdout",
     "output_type": "stream",
     "text": [
      "Vertically stacked:\n",
      " [[1 2]\n",
      " [3 4]\n",
      " [5 6]]\n",
      "Horizontally stacked:\n",
      " [[1 2 5]\n",
      " [3 4 6]]\n",
      "Split array into 3 parts: [array([1, 2]), array([3, 4]), array([5, 6])]\n"
     ]
    }
   ],
   "source": [
    "\n",
    "    #2. Array Manipulation\n",
    "    import numpy as np\n",
    "    \n",
    "    a = np.array([[1, 2], [3, 4]])\n",
    "    b = np.array([[5, 6]])\n",
    "    \n",
    "    # Stack vertically (row-wise)\n",
    "    vstacked = np.vstack((a, b))\n",
    "    print(\"Vertically stacked:\\n\", vstacked)\n",
    "    \n",
    "    # Stack horizontally (column-wise)\n",
    "    c = np.array([[5], [6]])\n",
    "    hstacked = np.hstack((a, c))\n",
    "    print(\"Horizontally stacked:\\n\", hstacked)\n",
    "    \n",
    "    # Split array\n",
    "    arr = np.array([1, 2, 3, 4, 5, 6])\n",
    "    split = np.split(arr, 3)\n",
    "    print(\"Split array into 3 parts:\", split)"
   ]
  },
  {
   "cell_type": "code",
   "execution_count": 9,
   "id": "8fb973d5-638a-4e61-844d-22cc4dfaaa6b",
   "metadata": {},
   "outputs": [
    {
     "name": "stdout",
     "output_type": "stream",
     "text": [
      "Using loop: [1, 4, 9, 16]\n",
      "Using NumPy vectorization: [ 1  4  9 16]\n",
      "Function vectorized result: [ 6 12 20 30]\n"
     ]
    }
   ],
   "source": [
    "#3. Vectorization\n",
    "import numpy as np\n",
    "\n",
    "# Without vectorization (using loop)\n",
    "data = [1, 2, 3, 4]\n",
    "squared = []\n",
    "for x in data:\n",
    "    squared.append(x**2)\n",
    "print(\"Using loop:\", squared)\n",
    "\n",
    "# With NumPy vectorization\n",
    "arr = np.array([1, 2, 3, 4])\n",
    "squared_np = arr ** 2\n",
    "print(\"Using NumPy vectorization:\", squared_np)\n",
    "\n",
    "# Vectorized operations with functions\n",
    "def f(x):\n",
    "    return x**2 + 3*x + 2\n",
    "\n",
    "result = f(arr)  # Automatically applied element-wise\n",
    "print(\"Function vectorized result:\", result)"
   ]
  },
  {
   "cell_type": "code",
   "execution_count": 26,
   "id": "275d1298-f9c3-4ca1-9739-bba2a1633e74",
   "metadata": {},
   "outputs": [
    {
     "name": "stdout",
     "output_type": "stream",
     "text": [
      "All student names: ['Alice' 'Bob' 'Charlie']\n",
      "Age of second student: 22\n",
      "All student records:\n",
      " [('Alice', 20, 85.5) ('Bob', 22, 90. ) ('Charlie', 21, 78.2)]\n"
     ]
    }
   ],
   "source": [
    "'''Write programs to understand the use of Numpy’s Structured Arrays, Reading and Writing Array Data on\n",
    "Files'''\n",
    "\n",
    "#1. Structured Arrays in NumPy\n",
    "#Structured arrays allow different data types for each column (like a database table).\n",
    "\n",
    "import numpy as np\n",
    "\n",
    "# Define structured data type\n",
    "student_dtype = np.dtype([\n",
    "    ('name', 'U10'),   # Unicode string (max 10 chars)\n",
    "    ('age', 'i4'),     # 32-bit integer\n",
    "    ('marks', 'f4')    # 32-bit float\n",
    "])\n",
    "\n",
    "# Create structured array\n",
    "students = np.array([\n",
    "    ('Alice', 20, 85.5),\n",
    "    ('Bob', 22, 90.0),\n",
    "    ('Charlie', 21, 78.2)\n",
    "], dtype=student_dtype)\n",
    "\n",
    "# Access structured data\n",
    "print(\"All student names:\", students['name'])\n",
    "print(\"Age of second student:\", students[1]['age'])\n",
    "print(\"All student records:\\n\", students)\n"
   ]
  },
  {
   "cell_type": "code",
   "execution_count": 27,
   "id": "82c13a1c-d6d0-44aa-b005-a3001e0243e2",
   "metadata": {},
   "outputs": [
    {
     "name": "stdout",
     "output_type": "stream",
     "text": [
      "Array saved to my_array.txt\n"
     ]
    }
   ],
   "source": [
    "#22. Writing Array Data to File (Text File)\n",
    "import numpy as np\n",
    "\n",
    "arr = np.array([[10, 20, 30],\n",
    "                [40, 50, 60]])\n",
    "\n",
    "# Save as plain text\n",
    "np.savetxt(\"my_array.txt\", arr, fmt='%d')\n",
    "print(\"Array saved to my_array.txt\")"
   ]
  },
  {
   "cell_type": "code",
   "execution_count": 28,
   "id": "d1060d14-f918-4bc7-a2e7-8a07b277d6b8",
   "metadata": {},
   "outputs": [
    {
     "name": "stdout",
     "output_type": "stream",
     "text": [
      "Loaded array:\n",
      " [[10 20 30]\n",
      " [40 50 60]]\n"
     ]
    }
   ],
   "source": [
    "#3. Reading Array Data from File (Text File)\n",
    "import numpy as np\n",
    "\n",
    "# Read from text file\n",
    "loaded_arr = np.loadtxt(\"my_array.txt\", dtype=int)\n",
    "print(\"Loaded array:\\n\", loaded_arr)"
   ]
  },
  {
   "cell_type": "code",
   "execution_count": 10,
   "id": "efdea0aa-c790-4525-ac3b-b1f26bf17c78",
   "metadata": {},
   "outputs": [
    {
     "name": "stdout",
     "output_type": "stream",
     "text": [
      "Loaded from .npy file:\n",
      " [[1 2 3]\n",
      " [4 5 6]]\n"
     ]
    }
   ],
   "source": [
    "#4. Save & Load as Binary (npy format)\n",
    "import numpy as np\n",
    "\n",
    "arr = np.array([[1, 2, 3], [4, 5, 6]])\n",
    "\n",
    "# Save binary file\n",
    "np.save('my_binary_array.npy', arr)\n",
    "\n",
    "# Load binary file\n",
    "loaded = np.load('my_binary_array.npy')\n",
    "print(\"Loaded from .npy file:\\n\", loaded)"
   ]
  },
  {
   "cell_type": "code",
   "execution_count": null,
   "id": "b2bd84eb-7593-4399-b07a-577bf8bcb0f3",
   "metadata": {},
   "outputs": [],
   "source": []
  }
 ],
 "metadata": {
  "kernelspec": {
   "display_name": "Python 3 (ipykernel)",
   "language": "python",
   "name": "python3"
  },
  "language_info": {
   "codemirror_mode": {
    "name": "ipython",
    "version": 3
   },
   "file_extension": ".py",
   "mimetype": "text/x-python",
   "name": "python",
   "nbconvert_exporter": "python",
   "pygments_lexer": "ipython3",
   "version": "3.13.5"
  }
 },
 "nbformat": 4,
 "nbformat_minor": 5
}
