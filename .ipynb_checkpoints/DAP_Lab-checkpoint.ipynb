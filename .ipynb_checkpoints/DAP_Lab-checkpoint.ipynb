{
 "cells": [
  {
   "cell_type": "code",
   "execution_count": 1,
   "id": "7251f2f5-70a3-4e22-948a-62562e7ffc08",
   "metadata": {},
   "outputs": [
    {
     "ename": "NameError",
     "evalue": "name 'python' is not defined",
     "output_type": "error",
     "traceback": [
      "\u001b[1;31m---------------------------------------------------------------------------\u001b[0m",
      "\u001b[1;31mNameError\u001b[0m                                 Traceback (most recent call last)",
      "Cell \u001b[1;32mIn[1], line 1\u001b[0m\n\u001b[1;32m----> 1\u001b[0m python \u001b[38;5;241m-\u001b[39m\u001b[38;5;241m-\u001b[39mversion\n",
      "\u001b[1;31mNameError\u001b[0m: name 'python' is not defined"
     ]
    }
   ],
   "source": [
    "python --version\n"
   ]
  },
  {
   "cell_type": "code",
   "execution_count": null,
   "id": "4a814c42-cd51-4eb5-b37d-8ffffdb3e4d8",
   "metadata": {},
   "outputs": [],
   "source": []
  },
  {
   "cell_type": "code",
   "execution_count": 3,
   "id": "0e025676-7855-4564-bf73-9a1fa299253a",
   "metadata": {},
   "outputs": [
    {
     "name": "stdout",
     "output_type": "stream",
     "text": [
      "Hello Ashish\n"
     ]
    }
   ],
   "source": [
    "# Identifiers and Keywords (H1)\n",
    "# Identifiers: variable, function, class names\n",
    "# Keywords: reserved words like `def`, `class`, `if`, `else`, etc.\n",
    "\n",
    "\n",
    "name = \"Ashish\"  # 'name' is an identifier\n",
    "age = 21         # 'age' is also an identifier\n",
    "\n",
    "\n",
    "def greet():     # 'def' is a keyword, 'greet' is an identifier\n",
    "    print(\"Hello\", name)\n",
    "\n",
    "\n",
    "greet()\n"
   ]
  },
  {
   "cell_type": "code",
   "execution_count": 6,
   "id": "26f3a982-e632-40f1-840e-8efdc7e4b2a4",
   "metadata": {},
   "outputs": [
    {
     "name": "stdout",
     "output_type": "stream",
     "text": [
      "x is greater than 5\n",
      "This line is also part of the if block\n",
      "This line is outside the if block\n"
     ]
    }
   ],
   "source": [
    "#Indentation\n",
    "# Python uses indentation (spaces or tabs) to define code blocks\n",
    "\n",
    "\n",
    "x = 10\n",
    "\n",
    "\n",
    "if x > 5:\n",
    "    print(\"x is greater than 5\")   # indented block inside if\n",
    "    print(\"This line is also part of the if block\")\n",
    "print(\"This line is outside the if block\")  # no indentation\n"
   ]
  },
  {
   "cell_type": "code",
   "execution_count": 8,
   "id": "145fdd5a-9733-4af5-97e9-8398d40f18ed",
   "metadata": {},
   "outputs": [
    {
     "name": "stdout",
     "output_type": "stream",
     "text": [
      "Sum is: 8\n"
     ]
    }
   ],
   "source": [
    "#Comments\n",
    "\n",
    "\"\"\"\n",
    "This is a \n",
    "multi-line comment or docstring.\n",
    "Used to describe what your code does.\n",
    "\"\"\"\n",
    "\n",
    "# Below is a sample program\n",
    "a = 5  # assigning value 5 to variable a\n",
    "b = 3\n",
    "sum = a + b  # adding a and b\n",
    "print(\"Sum is:\", sum)\n"
   ]
  },
  {
   "cell_type": "code",
   "execution_count": 9,
   "id": "8db18766-e997-4a06-b220-9260619fc4f9",
   "metadata": {},
   "outputs": [
    {
     "name": "stdout",
     "output_type": "stream",
     "text": [
      "Addition: 13\n",
      "Subtraction: 7\n",
      "Multiplication: 30\n",
      "Division: 3.3333333333333335\n",
      "Modulus: 1\n",
      "Power: 1000\n",
      "Is a equal to b? False\n",
      "Is a not equal to b? True\n",
      "Is a greater than b? True\n"
     ]
    }
   ],
   "source": [
    "#Operators\n",
    "a = 10\n",
    "b = 3\n",
    "\n",
    "# Arithmetic Operators\n",
    "print(\"Addition:\", a + b)\n",
    "print(\"Subtraction:\", a - b)\n",
    "print(\"Multiplication:\", a * b)\n",
    "print(\"Division:\", a / b)\n",
    "print(\"Modulus:\", a % b)\n",
    "print(\"Power:\", a ** b)\n",
    "\n",
    "# Comparison Operators\n",
    "print(\"Is a equal to b?\", a == b)\n",
    "print(\"Is a not equal to b?\", a != b)\n",
    "print(\"Is a greater than b?\", a > b)"
   ]
  },
  {
   "cell_type": "code",
   "execution_count": 11,
   "id": "7f41b26e-8947-47a4-ae45-5cf71e47ff20",
   "metadata": {},
   "outputs": [
    {
     "name": "stdout",
     "output_type": "stream",
     "text": [
      "True\n",
      "False\n",
      "True\n",
      "True\n",
      "False\n"
     ]
    }
   ],
   "source": [
    "#Membership Operator\n",
    "my_list = [1, 2, 3, 4, 5]\n",
    "\n",
    "print(3 in my_list)    # True\n",
    "print(7 in my_list)    # False\n",
    "print(10 not in my_list)  # True\n",
    "\n",
    "my_string = \"hello\"\n",
    "print('h' in my_string)  # True\n",
    "print('z' in my_string)  # False\n"
   ]
  },
  {
   "cell_type": "code",
   "execution_count": 13,
   "id": "a62455c4-8732-4931-b025-272f31b93d93",
   "metadata": {},
   "outputs": [],
   "source": [
    "#2. Write programs to understand the use of Python String, Tuple, List, Set, Dictionary, File input/output."
   ]
  },
  {
   "cell_type": "code",
   "execution_count": 17,
   "id": "b20d211f-a269-4f7f-b22a-68d3ba79418a",
   "metadata": {
    "scrolled": true
   },
   "outputs": [
    {
     "name": "stdout",
     "output_type": "stream",
     "text": [
      "HELLO, PYTHON!\n",
      "hello, python!\n",
      "Hello\n",
      "True\n",
      "Hello, World!\n",
      "20\n",
      "4\n",
      "True\n",
      "[100, 3, 4]\n",
      "3\n",
      "{1, 3, 4, 5}\n",
      "True\n",
      "Ashish\n",
      "name: Ashish\n",
      "age: 22\n",
      "branch: CSE\n",
      "city: Raipur\n"
     ]
    }
   ],
   "source": [
    "#String\n",
    "# String operations\n",
    "text = \"Hello, Python!\"\n",
    "\n",
    "print(text.upper())         # Convert to uppercase\n",
    "print(text.lower())         # Convert to lowercase\n",
    "print(text[0:5])            # Slicing\n",
    "print(\"Python\" in text)     # Membership check\n",
    "print(text.replace(\"Python\", \"World\"))\n",
    "\n",
    "#Tuple\n",
    "# Tuples are immutable collections\n",
    "my_tuple = (10, 20, 30, 40)\n",
    "\n",
    "print(my_tuple[1])          # Accessing element\n",
    "print(len(my_tuple))        # Length of tuple\n",
    "print(20 in my_tuple)       # Membership check\n",
    "\n",
    "# my_tuple[0] = 100  ❌ Error: Tuples are immutable\n",
    "\n",
    "#List\n",
    "# Lists are mutable\n",
    "my_list = [1, 2, 3]\n",
    "\n",
    "my_list.append(4)           # Add element\n",
    "my_list.remove(2)           # Remove element\n",
    "my_list[0] = 100            # Modify element\n",
    "\n",
    "print(my_list)\n",
    "print(len(my_list))\n",
    "\n",
    "\n",
    "#Set\n",
    "# Sets are unordered and store unique values\n",
    "my_set = {1, 2, 3, 3, 4}\n",
    "\n",
    "my_set.add(5)               # Add item\n",
    "my_set.discard(2)           # Remove item if present\n",
    "\n",
    "print(my_set)\n",
    "print(3 in my_set)          # Membership\n",
    "\n",
    "#Dictionary\n",
    "# Dictionary stores key-value pairs\n",
    "student = {\n",
    "    \"name\": \"Ashish\",\n",
    "    \"age\": 21,\n",
    "    \"branch\": \"CSE\"\n",
    "}\n",
    "\n",
    "print(student[\"name\"])      # Access by key\n",
    "student[\"age\"] = 22         # Modify value\n",
    "student[\"city\"] = \"Raipur\"  # Add new key-value\n",
    "\n",
    "for key, value in student.items():\n",
    "    print(f\"{key}: {value}\")\n"
   ]
  },
  {
   "cell_type": "code",
   "execution_count": 18,
   "id": "2b336de9-739c-49f4-8a6b-df0e58aea5de",
   "metadata": {},
   "outputs": [
    {
     "name": "stdout",
     "output_type": "stream",
     "text": [
      "Requirement already satisfied: numpy in c:\\users\\ashish\\anaconda3\\lib\\site-packages (2.1.3)\n",
      "Note: you may need to restart the kernel to use updated packages.\n"
     ]
    }
   ],
   "source": [
    "pip install numpy"
   ]
  },
  {
   "cell_type": "code",
   "execution_count": 19,
   "id": "cc203bb1-de15-4b10-a565-4ceb8cbaac26",
   "metadata": {},
   "outputs": [
    {
     "name": "stdout",
     "output_type": "stream",
     "text": [
      "1D Array: [1 2 3 4 5]\n",
      "2D Array:\n",
      " [[1 2]\n",
      " [3 4]]\n"
     ]
    }
   ],
   "source": [
    "\"\"\"Write programs to understand the use of Numpy’s Ndarray, Basic Operations, Indexing, Slicing, and Iterating,\n",
    "Conditions and Boolean Arrays.\"\"\"\n",
    "\n",
    "#Creating an ndarray\n",
    "import numpy as np\n",
    "\n",
    "arr = np.array([1, 2, 3, 4, 5])\n",
    "print(\"1D Array:\", arr)\n",
    "\n",
    "matrix = np.array([[1, 2], [3, 4]])\n",
    "print(\"2D Array:\\n\", matrix)"
   ]
  },
  {
   "cell_type": "code",
   "execution_count": 20,
   "id": "7fb2ceef-cdf1-4a45-b93c-d4a60b146c19",
   "metadata": {},
   "outputs": [
    {
     "name": "stdout",
     "output_type": "stream",
     "text": [
      "Addition: [5 7 9]\n",
      "Subtraction: [-3 -3 -3]\n",
      "Multiplication: [ 4 10 18]\n",
      "Division: [4.  2.5 2. ]\n",
      "Square: [1 4 9]\n",
      "Sum of all elements: 6\n"
     ]
    }
   ],
   "source": [
    "#Basic Operations\n",
    "a = np.array([1, 2, 3])\n",
    "b = np.array([4, 5, 6])\n",
    "\n",
    "print(\"Addition:\", a + b)\n",
    "print(\"Subtraction:\", a - b)\n",
    "print(\"Multiplication:\", a * b)\n",
    "print(\"Division:\", b / a)\n",
    "print(\"Square:\", a ** 2)\n",
    "print(\"Sum of all elements:\", np.sum(a))"
   ]
  },
  {
   "cell_type": "code",
   "execution_count": null,
   "id": "77eac136-bc10-4b17-91c6-ba9c630dc42e",
   "metadata": {},
   "outputs": [],
   "source": [
    "arr = np.array([10, 20, 30, 40, 50])\n",
    "\n",
    "print(\"Element at index 2:\", arr[2])\n",
    "print(\"Sliced Array:\", arr[1:4])\n",
    "\n",
    "print(\"Iterating over array:\")\n",
    "for x in arr:\n",
    "    print(x)\n"
   ]
  }
 ],
 "metadata": {
  "kernelspec": {
   "display_name": "Python 3 (ipykernel)",
   "language": "python",
   "name": "python3"
  },
  "language_info": {
   "codemirror_mode": {
    "name": "ipython",
    "version": 3
   },
   "file_extension": ".py",
   "mimetype": "text/x-python",
   "name": "python",
   "nbconvert_exporter": "python",
   "pygments_lexer": "ipython3",
   "version": "3.13.5"
  }
 },
 "nbformat": 4,
 "nbformat_minor": 5
}
